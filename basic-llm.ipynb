{
 "cells": [
  {
   "cell_type": "markdown",
   "id": "9978d553",
   "metadata": {},
   "source": []
  },
  {
   "cell_type": "markdown",
   "id": "f26fadf3",
   "metadata": {},
   "source": [
    "# Preparations"
   ]
  },
  {
   "cell_type": "markdown",
   "id": "f84aa063",
   "metadata": {},
   "source": [
    "## Optional: GDrive connection\n",
    "If you want to run this on Google Colab, you can connect the notebook to your Google Drive to access training data from there. "
   ]
  },
  {
   "cell_type": "code",
   "execution_count": null,
   "id": "ffb6ff95",
   "metadata": {},
   "outputs": [],
   "source": [
    "from google.colab import drive\n",
    "drive.mount('/content/drive')"
   ]
  },
  {
   "cell_type": "markdown",
   "id": "3b3bea7a",
   "metadata": {},
   "source": [
    "## Libraries and Parameters"
   ]
  },
  {
   "cell_type": "code",
   "execution_count": 5,
   "id": "c351b7b9",
   "metadata": {},
   "outputs": [
    {
     "name": "stdout",
     "output_type": "stream",
     "text": [
      "Running on `cpu`\n"
     ]
    }
   ],
   "source": [
    "import torch\n",
    "import torch.nn as nn\n",
    "import mmap\n",
    "import time\n",
    "import random\n",
    "import pickle\n",
    "from torchinfo import summary\n",
    "import matplotlib.pyplot as plt\n",
    "\n",
    "source_data_path = \"drive/MyDrive/Colab Notebooks/data\"\n",
    "source_data = \"text.txt\"\n",
    "model_export = \"model.pth\"\n",
    "\n",
    "device = 'cuda' if torch.cuda.is_available() else 'cpu'\n",
    "\n",
    "batch_size = 32\n",
    "block_size = 128\n",
    "epochs = 100\n",
    "learning_rate = 0.003\n",
    "num_embeddings = 384 # num_embeddings: embedding dimension, \n",
    "num_layers = 4 # amount of blocks\n",
    "num_heads = 4 # amount of heads per blocks\n",
    "dropout_rate = 0.2 # how many nodes to drop per each epoch\n",
    "hidden_units_factor = 4 # how many hidden units for the sequential layer stack, using a factor here, multiplied with num_embeddings\n",
    "train_split = 0.8\n",
    "\n",
    "losses = {}\n",
    "\n",
    "print(f'Running on `{device}`')"
   ]
  },
  {
   "cell_type": "markdown",
   "id": "3b370ca8",
   "metadata": {},
   "source": [
    "## Data\n",
    "I am using a very **very small dataset** here only, as this is for training purposes only. If you are looking for better results, you may refer to e.g. **OpenWebText** or other available data sets. \n",
    "\n",
    "We are going to read the data and split it into two parts: **Training** data and **testing** data. \n",
    "\n",
    "Next we get a list of all used `chars` and create two tables for encoding and decoding(`char_table` and `reverse_char_table`) text into vector of integers. The `vocab_size` shows the amount of different chars in the text."
   ]
  },
  {
   "cell_type": "code",
   "execution_count": 6,
   "id": "516b1cf6",
   "metadata": {},
   "outputs": [
    {
     "ename": "FileNotFoundError",
     "evalue": "[Errno 2] No such file or directory: 'drive/MyDrive/Colab Notebooks/data/text.txt'",
     "output_type": "error",
     "traceback": [
      "\u001b[0;31m---------------------------------------------------------------------------\u001b[0m",
      "\u001b[0;31mFileNotFoundError\u001b[0m                         Traceback (most recent call last)",
      "Cell \u001b[0;32mIn[6], line 6\u001b[0m\n\u001b[1;32m      3\u001b[0m source_data_train \u001b[38;5;241m=\u001b[39m \u001b[38;5;124mf\u001b[39m\u001b[38;5;124m\"\u001b[39m\u001b[38;5;124mtrain_\u001b[39m\u001b[38;5;132;01m{\u001b[39;00msource_data\u001b[38;5;132;01m}\u001b[39;00m\u001b[38;5;124m\"\u001b[39m\n\u001b[1;32m      4\u001b[0m source_data_test \u001b[38;5;241m=\u001b[39m \u001b[38;5;124mf\u001b[39m\u001b[38;5;124m\"\u001b[39m\u001b[38;5;124mtest_\u001b[39m\u001b[38;5;132;01m{\u001b[39;00msource_data\u001b[38;5;132;01m}\u001b[39;00m\u001b[38;5;124m\"\u001b[39m\n\u001b[0;32m----> 6\u001b[0m f_full_text \u001b[38;5;241m=\u001b[39m \u001b[38;5;28;43mopen\u001b[39;49m\u001b[43m(\u001b[49m\u001b[38;5;124;43mf\u001b[39;49m\u001b[38;5;124;43m\"\u001b[39;49m\u001b[38;5;132;43;01m{\u001b[39;49;00m\u001b[43msource_data_path\u001b[49m\u001b[38;5;132;43;01m}\u001b[39;49;00m\u001b[38;5;124;43m/\u001b[39;49m\u001b[38;5;132;43;01m{\u001b[39;49;00m\u001b[43msource_data\u001b[49m\u001b[38;5;132;43;01m}\u001b[39;49;00m\u001b[38;5;124;43m\"\u001b[39;49m\u001b[43m,\u001b[49m\u001b[43m \u001b[49m\u001b[38;5;124;43m\"\u001b[39;49m\u001b[38;5;124;43mr\u001b[39;49m\u001b[38;5;124;43m\"\u001b[39;49m\u001b[43m)\u001b[49m\n\u001b[1;32m      7\u001b[0m f_training_text \u001b[38;5;241m=\u001b[39m \u001b[38;5;28mopen\u001b[39m(\u001b[38;5;124mf\u001b[39m\u001b[38;5;124m\"\u001b[39m\u001b[38;5;132;01m{\u001b[39;00msource_data_path\u001b[38;5;132;01m}\u001b[39;00m\u001b[38;5;124m/\u001b[39m\u001b[38;5;132;01m{\u001b[39;00msource_data_train\u001b[38;5;132;01m}\u001b[39;00m\u001b[38;5;124m\"\u001b[39m, \u001b[38;5;124m'\u001b[39m\u001b[38;5;124mw\u001b[39m\u001b[38;5;124m'\u001b[39m)\n\u001b[1;32m      8\u001b[0m f_test_test \u001b[38;5;241m=\u001b[39m \u001b[38;5;28mopen\u001b[39m(\u001b[38;5;124mf\u001b[39m\u001b[38;5;124m\"\u001b[39m\u001b[38;5;132;01m{\u001b[39;00msource_data_path\u001b[38;5;132;01m}\u001b[39;00m\u001b[38;5;124m/\u001b[39m\u001b[38;5;132;01m{\u001b[39;00msource_data_test\u001b[38;5;132;01m}\u001b[39;00m\u001b[38;5;124m\"\u001b[39m, \u001b[38;5;124m'\u001b[39m\u001b[38;5;124mw\u001b[39m\u001b[38;5;124m'\u001b[39m)\n",
      "File \u001b[0;32m~/Library/Python/3.11/lib/python/site-packages/IPython/core/interactiveshell.py:284\u001b[0m, in \u001b[0;36m_modified_open\u001b[0;34m(file, *args, **kwargs)\u001b[0m\n\u001b[1;32m    277\u001b[0m \u001b[38;5;28;01mif\u001b[39;00m file \u001b[38;5;129;01min\u001b[39;00m {\u001b[38;5;241m0\u001b[39m, \u001b[38;5;241m1\u001b[39m, \u001b[38;5;241m2\u001b[39m}:\n\u001b[1;32m    278\u001b[0m     \u001b[38;5;28;01mraise\u001b[39;00m \u001b[38;5;167;01mValueError\u001b[39;00m(\n\u001b[1;32m    279\u001b[0m         \u001b[38;5;124mf\u001b[39m\u001b[38;5;124m\"\u001b[39m\u001b[38;5;124mIPython won\u001b[39m\u001b[38;5;124m'\u001b[39m\u001b[38;5;124mt let you open fd=\u001b[39m\u001b[38;5;132;01m{\u001b[39;00mfile\u001b[38;5;132;01m}\u001b[39;00m\u001b[38;5;124m by default \u001b[39m\u001b[38;5;124m\"\u001b[39m\n\u001b[1;32m    280\u001b[0m         \u001b[38;5;124m\"\u001b[39m\u001b[38;5;124mas it is likely to crash IPython. If you know what you are doing, \u001b[39m\u001b[38;5;124m\"\u001b[39m\n\u001b[1;32m    281\u001b[0m         \u001b[38;5;124m\"\u001b[39m\u001b[38;5;124myou can use builtins\u001b[39m\u001b[38;5;124m'\u001b[39m\u001b[38;5;124m open.\u001b[39m\u001b[38;5;124m\"\u001b[39m\n\u001b[1;32m    282\u001b[0m     )\n\u001b[0;32m--> 284\u001b[0m \u001b[38;5;28;01mreturn\u001b[39;00m \u001b[43mio_open\u001b[49m\u001b[43m(\u001b[49m\u001b[43mfile\u001b[49m\u001b[43m,\u001b[49m\u001b[43m \u001b[49m\u001b[38;5;241;43m*\u001b[39;49m\u001b[43margs\u001b[49m\u001b[43m,\u001b[49m\u001b[43m \u001b[49m\u001b[38;5;241;43m*\u001b[39;49m\u001b[38;5;241;43m*\u001b[39;49m\u001b[43mkwargs\u001b[49m\u001b[43m)\u001b[49m\n",
      "\u001b[0;31mFileNotFoundError\u001b[0m: [Errno 2] No such file or directory: 'drive/MyDrive/Colab Notebooks/data/text.txt'"
     ]
    }
   ],
   "source": [
    "chars = \"\"\n",
    "full_text = []\n",
    "source_data_train = f\"train_{source_data}\"\n",
    "source_data_test = f\"test_{source_data}\"\n",
    "\n",
    "f_full_text = open(f\"{source_data_path}/{source_data}\", \"r\")\n",
    "f_training_text = open(f\"{source_data_path}/{source_data_train}\", 'w')\n",
    "f_test_test = open(f\"{source_data_path}/{source_data_test}\", 'w')\n",
    "\n",
    "for line in f_full_text:\n",
    "  r = random.random()\n",
    "  full_text.append(line)\n",
    "  if (0.0 <=  r <= train_split):\n",
    "    f_training_text.write(line)\n",
    "  else:\n",
    "    f_test_test.write(line)\n",
    "\n",
    "f_full_text.close()\n",
    "f_training_text.close()\n",
    "f_test_test.close()\n",
    "\n",
    "chars = sorted(list(set(' '.join(full_text))))\n",
    "char_table = {char:index for index,char in enumerate(chars)}\n",
    "reverse_char_table = {index:char for index,char in enumerate(char_table)}\n",
    "\n",
    "vocab_size = len(chars)\n",
    "del full_text\n",
    "\n",
    "print(f'Vocabulary size is {vocab_size}')"
   ]
  },
  {
   "cell_type": "markdown",
   "id": "205869ed",
   "metadata": {},
   "source": [
    "## Helper Functions"
   ]
  },
  {
   "cell_type": "markdown",
   "id": "9ec3a686",
   "metadata": {},
   "source": [
    "We will create four functions:\n",
    "`encode()` and `decode()` will allow us to convert text to a vector of integers and back. \n",
    "\n",
    "`get_batch` and `get_random_chunk` will randomly read text chunks from our **training** and **testing** data set."
   ]
  },
  {
   "cell_type": "code",
   "execution_count": 10,
   "id": "506ad003",
   "metadata": {},
   "outputs": [],
   "source": [
    "def encode(char_table: list, text: str = None):\n",
    "  return [char_table[char] for char in text]\n",
    "\n",
    "def decode(char_table: list, numbers: list = []):\n",
    "  return ''.join([char_table[index] for index in numbers])\n",
    "\n",
    "# memory map for using small snippets of text from a single file of any size\n",
    "def get_random_chunk(split):\n",
    "    filename = f\"{source_data_path}/{source_data_train}\" if split == 'train' else f\"{source_data_path}/{source_data_test}\"\n",
    "    with open(filename, 'r') as f:\n",
    "        with mmap.mmap(f.fileno(), 0, access=mmap.ACCESS_READ) as mm:\n",
    "            # Determine the file size and a random position to start reading\n",
    "            file_size = len(mm)\n",
    "            start_pos = random.randint(0, (file_size) - block_size * batch_size)\n",
    "\n",
    "            # Seek to the random position and read data binary\n",
    "            mm.seek(start_pos)\n",
    "            raw_data = mm.read(block_size * batch_size-1)\n",
    "\n",
    "            # Decode the block to a string, ignoring any invalid byte sequences\n",
    "            data = raw_data.decode('utf-8', errors='ignore').replace('\\r', '')\n",
    "\n",
    "            # encode to torch tensor using char table\n",
    "            encoded_data = torch.tensor(encode(char_table = char_table, text = data), dtype=torch.long)\n",
    "\n",
    "    return encoded_data\n",
    "\n",
    "\n",
    "def get_batch(split):\n",
    "    \n",
    "    data = get_random_chunk(split)\n",
    "    indices = torch.randint(len(data) - block_size, (batch_size,))\n",
    "    features = torch.stack([data[index:index + block_size] for index in indices])\n",
    "    labels = torch.stack([data[index + 1:index + block_size+1] for index in indices])\n",
    "    features, labels = features.to(device), labels.to(device)\n",
    "    \n",
    "    return features, labels"
   ]
  },
  {
   "cell_type": "markdown",
   "id": "d279da1e",
   "metadata": {},
   "source": [
    "The following part just tests encoding and decoding feature:"
   ]
  },
  {
   "cell_type": "code",
   "execution_count": null,
   "id": "33eded27",
   "metadata": {},
   "outputs": [],
   "source": [
    "text = 'Hello world!'\n",
    "encoded_text = encode(char_table, 'Hello world!')\n",
    "decoded_text = decode(reverse_char_table, encoded_text)\n",
    "print(f'Encoding `{text} ` to  `{encoded_text} ` and back to  `{decoded_text} `')"
   ]
  },
  {
   "cell_type": "markdown",
   "id": "643755c6",
   "metadata": {},
   "source": [
    "## Model Classes\n",
    "This part defines the model structure. I am referring to the Multi-Head attention approach. I am not going into detail about mathematics. \n",
    "\n",
    "This is the comprised structure:\n",
    "\n",
    "- create **token** and **position embeddings** of the input text and pass them to\n",
    "- a sequential layer stack of `num_blocks` blocks \n",
    "  - pass embeddings to one **MultiHeadAttention** per block consisting of `num_heads` of heads for **self-attention calculation**\n",
    "    - pass result to a linear **projection layer**\n",
    "    - apply dropout of `dropout_rate` nodes \n",
    "  - pass results to the first **normalisation layer**\n",
    "  - pass results to a **feed forward layer**, which consists of a sequential layer stack of\n",
    "    - a linear layer\n",
    "    - a non-linear ReLU layer\n",
    "    - a linear layer\n",
    "    - another dropout layer\n",
    "  - pass results to the second **normalisation layer**\n",
    "- pass results to another **normalisation layer**\n",
    "- pass results to a final **linear layer**\n",
    "- reset the weights"
   ]
  },
  {
   "cell_type": "code",
   "execution_count": 3,
   "id": "7c5efd26",
   "metadata": {},
   "outputs": [],
   "source": [
    "class Head(nn.Module):\n",
    "    \"\"\" Self-attention head \"\"\"\n",
    "\n",
    "    def __init__(self, head_size):\n",
    "        super().__init__()\n",
    "        self.keys = nn.Linear(num_embeddings, head_size, bias=False)\n",
    "        self.queries = nn.Linear(num_embeddings, head_size, bias=False)\n",
    "        self.values = nn.Linear(num_embeddings, head_size, bias=False)\n",
    "        self.register_buffer('tril', torch.tril(torch.ones(block_size, block_size)))\n",
    "\n",
    "        self.dropout = nn.Dropout(dropout_rate)\n",
    "\n",
    "    def forward(self, X):\n",
    "        # input of size (batch, time-step, channels)\n",
    "        # output of size (batch, time-step, head size)\n",
    "        B,T,C = X.shape\n",
    "        keys = self.keys(X)   # (B,T,hs)\n",
    "        queries = self.queries(X) # (B,T,hs)\n",
    "        # compute attention scores (\"affinities\")\n",
    "        weights = queries @ keys.transpose(-2,-1) * keys.shape[-1] ** -0.5 # (B, T, hs) @ (B, hs, T) -> (B, T, T)\n",
    "        weights = weights.masked_fill(self.tril[:T, :T] == 0, float('-inf')) # (B, T, T)\n",
    "        weights = F.softmax(weights, dim=-1) # (B, T, T)\n",
    "        weights = self.dropout(weights)\n",
    "        # perform the weighted aggregation of the values\n",
    "        values = self.values(X) # (B,T,hs)\n",
    "        y = weights @ values # (B, T, T) @ (B, T, hs) -> (B, T, hs)\n",
    "        return y\n",
    "\n",
    "class MultiHeadAttention(nn.Module):\n",
    "    \"\"\" multiple heads of self-attention in parallel \"\"\"\n",
    "\n",
    "    def __init__(self, num_heads, head_size):\n",
    "        super().__init__()\n",
    "        self.heads = nn.ModuleList([Head(head_size) for head in range(num_heads)])\n",
    "        self.projections = nn.Linear(head_size * num_heads, num_embeddings)\n",
    "        self.dropout = nn.Dropout(dropout_rate)\n",
    "\n",
    "    def forward(self, X):\n",
    "        y = torch.cat([head(X) for head in self.heads], dim=-1) # (B, T, F) -> (B, T, [h1, h1, h1, h1, h2, h2, h2, h2, h3, h3, h3, h3])\n",
    "        y = self.dropout(self.projections(y))\n",
    "        return y\n",
    "\n",
    "class FeedForward(nn.Module):\n",
    "    \"\"\" a simple linear layer followed by a non-linearity \"\"\"\n",
    "\n",
    "    def __init__(self, n_embd):\n",
    "        super().__init__()\n",
    "        self.linear_layer_stack = nn.Sequential(\n",
    "            nn.Linear(in_features = num_embeddings, out_features = hidden_units_factor * num_embeddings),\n",
    "            nn.ReLU(),\n",
    "            nn.Linear(in_features = hidden_units_factor * num_embeddings, out_features = num_embeddings),\n",
    "            nn.Dropout(dropout_rate),\n",
    "        )\n",
    "\n",
    "    def forward(self, X):\n",
    "        return self.linear_layer_stack(X)\n",
    "\n",
    "class Block(nn.Module):\n",
    "    \"\"\" Transformer block: communication followed by computation \"\"\"\n",
    "\n",
    "    def __init__(self, n_embd, n_head):\n",
    "        super().__init__()\n",
    "        head_size = num_embeddings // num_heads\n",
    "        self.self_attention_layer = MultiHeadAttention(num_heads, head_size)\n",
    "        self.normalisation_layer_1 = nn.LayerNorm(num_embeddings)\n",
    "        self.feed_forward_layer = FeedForward(num_embeddings)\n",
    "        self.normalisation_layer_2 = nn.LayerNorm(num_embeddings)\n",
    "\n",
    "    def forward(self, features):\n",
    "        labels = self.self_attention_layer(features)\n",
    "        features = self.normalisation_layer_1(features + labels)\n",
    "        labels = self.feed_forward_layer(features)\n",
    "        features = self.normalisation_layer_2(features + labels)\n",
    "        return features\n",
    "\n",
    "class GPTLanguageModel(nn.Module):\n",
    "    \n",
    "    def __init__(self, vocab_size):\n",
    "        super().__init__()\n",
    "        self.token_embedding_table = nn.Embedding(vocab_size, num_embeddings)\n",
    "        self.position_embedding_table = nn.Embedding(block_size, num_embeddings)\n",
    "\n",
    "        self.blocks = nn.Sequential(*[Block(num_embeddings, n_head=num_heads) for layer in range(num_layers)])\n",
    "        self.normalisation_layer = nn.LayerNorm(num_embeddings)\n",
    "        self.final_layer = nn.Linear(num_embeddings, vocab_size)\n",
    "\n",
    "        self.apply(self._init_weights)\n",
    "\n",
    "    def _init_weights(self, module):\n",
    "        if isinstance(module, nn.Linear):\n",
    "            torch.nn.init.normal_(module.weight, mean=0.0, std=0.02)\n",
    "            if module.bias is not None:\n",
    "                torch.nn.init.zeros_(module.bias)\n",
    "        elif isinstance(module, nn.Embedding):\n",
    "            torch.nn.init.normal_(module.weight, mean=0.0, std=0.02)\n",
    "\n",
    "    def forward(self, features):\n",
    "        \n",
    "        # features - a block of chars\n",
    "        # B - Batch Size\n",
    "        # T - Block Size/Time Steps\n",
    "        # C - Vocab Size/Classes\n",
    "\n",
    "        B, T = features.shape\n",
    "\n",
    "        token_embeddings = self.token_embedding_table(features) # (B,T,C)\n",
    "        position_embeddings = self.position_embedding_table(torch.arange(T, device = device)) # (T,C)\n",
    "        embeddings = token_embeddings + position_embeddings # (B,T,C)\n",
    "        labels = self.blocks(embeddings) # (B,T,C)\n",
    "        labels = self.normalisation_layer(labels) # (B,T,C)\n",
    "        labels = self.final_layer(labels) # (Batch Size, Block Size, Vocab Size)\n",
    "\n",
    "        return labels\n",
    "\n",
    "    def generate(self, context, max_new_tokens):\n",
    "        # context is encoded prompt as a tensor of floats with shape = (Batch Size, Block Size Dummy) \n",
    "        for new_token in range(max_new_tokens):\n",
    "            # get block from context\n",
    "            block = context[:, -block_size:]\n",
    "            # let the model calculate prediction logits\n",
    "            y_logits = self.forward(block)\n",
    "            # focus only on the last time step\n",
    "            y_logits = y_logits[:, -1, :] # becomes (B, C)\n",
    "            # apply softmax to get probabilities\n",
    "            y_prediction_probs = F.softmax(y_logits, dim=-1) # (B, C)\n",
    "            # sample from the distribution\n",
    "            y_predicted = torch.multinomial(y_prediction_probs, num_samples=1) # (B, 1)\n",
    "            # append predicted label to the sequence\n",
    "            context = torch.cat((context, y_predicted), dim=1) # (B, T+1)\n",
    "        return context"
   ]
  },
  {
   "cell_type": "markdown",
   "id": "9b9b9bec",
   "metadata": {},
   "source": [
    "# Training process\n",
    "## Init the model\n",
    "This is where the preparation ends. We are ready to **init** our model. \n",
    "\n",
    "We are using the **AdamW optimizier** and the common **cross entropy** loss function. \n",
    "\n",
    "If you want to start over, do it here:"
   ]
  },
  {
   "cell_type": "code",
   "execution_count": 4,
   "id": "91a3457e",
   "metadata": {},
   "outputs": [
    {
     "ename": "NameError",
     "evalue": "name 'vocab_size' is not defined",
     "output_type": "error",
     "traceback": [
      "\u001b[0;31m---------------------------------------------------------------------------\u001b[0m",
      "\u001b[0;31mNameError\u001b[0m                                 Traceback (most recent call last)",
      "Cell \u001b[0;32mIn[4], line 1\u001b[0m\n\u001b[0;32m----> 1\u001b[0m model \u001b[38;5;241m=\u001b[39m GPTLanguageModel(\u001b[43mvocab_size\u001b[49m)\n\u001b[1;32m      3\u001b[0m model\u001b[38;5;241m.\u001b[39mto(device)\n\u001b[1;32m      5\u001b[0m optimizer \u001b[38;5;241m=\u001b[39m torch\u001b[38;5;241m.\u001b[39moptim\u001b[38;5;241m.\u001b[39mAdamW(model\u001b[38;5;241m.\u001b[39mparameters(), lr\u001b[38;5;241m=\u001b[39mlearning_rate)\n",
      "\u001b[0;31mNameError\u001b[0m: name 'vocab_size' is not defined"
     ]
    }
   ],
   "source": [
    "model = GPTLanguageModel(vocab_size)\n",
    "\n",
    "model.to(device)\n",
    "\n",
    "optimizer = torch.optim.AdamW(model.parameters(), lr=learning_rate)\n",
    "\n",
    "loss_fn = nn.CrossEntropyLoss()\n",
    "\n",
    "losses = {\n",
    "    'epoch': [],\n",
    "    'loss_train': [],\n",
    "    'loss_test': [],\n",
    "    'duration': 0 # seconds\n",
    "}"
   ]
  },
  {
   "cell_type": "code",
   "execution_count": null,
   "id": "9324873f",
   "metadata": {},
   "outputs": [],
   "source": []
  },
  {
   "cell_type": "markdown",
   "id": "4f45d01e",
   "metadata": {},
   "source": [
    "## Training loop\n",
    "Now we are ready to start the trainign and test loop. I am referring to the suggested approach by Daniel Bourke (checkout his \"*Optimization loop song*: https://www.youtube.com/watch?v=Nutpusq_AFw).\n",
    "\n",
    "This is the rough architecture behind the loop:\n",
    "\n",
    "- get a fresh and random batch of data\n",
    "- pass training data (`features_train`) to the model\n",
    "- calculate the loss by comparing the predicted results `labels_logits`to the expected results `labels_traing`\n",
    "- zero grad the optimizer\n",
    "- do back propagation of the loss\n",
    "- update parameters via optimizer function\n",
    "- start testing in torch's inference mode\n",
    "- calclate the test los by comparing the predicted test results `labels_logits` to the expected test results `labels_test`\n",
    "\n",
    "We will record train and test losses to plot them later."
   ]
  },
  {
   "cell_type": "code",
   "execution_count": 7,
   "id": "7b3838bc",
   "metadata": {},
   "outputs": [
    {
     "ename": "NameError",
     "evalue": "name 'model' is not defined",
     "output_type": "error",
     "traceback": [
      "\u001b[0;31m---------------------------------------------------------------------------\u001b[0m",
      "\u001b[0;31mNameError\u001b[0m                                 Traceback (most recent call last)",
      "Cell \u001b[0;32mIn[7], line 6\u001b[0m\n\u001b[1;32m      1\u001b[0m start \u001b[38;5;241m=\u001b[39m time\u001b[38;5;241m.\u001b[39mtime()\n\u001b[1;32m      3\u001b[0m \u001b[38;5;28;01mfor\u001b[39;00m epoch \u001b[38;5;129;01min\u001b[39;00m \u001b[38;5;28mrange\u001b[39m(epochs):\n\u001b[1;32m      4\u001b[0m \n\u001b[1;32m      5\u001b[0m     \u001b[38;5;66;03m# TRAIN\u001b[39;00m\n\u001b[0;32m----> 6\u001b[0m     \u001b[43mmodel\u001b[49m\u001b[38;5;241m.\u001b[39mtrain()\n\u001b[1;32m      8\u001b[0m     \u001b[38;5;66;03m# GET BATCH OF TRAINING DATA\u001b[39;00m\n\u001b[1;32m      9\u001b[0m     features_train, labels_train \u001b[38;5;241m=\u001b[39m get_batch(\u001b[38;5;124m'\u001b[39m\u001b[38;5;124mtrain\u001b[39m\u001b[38;5;124m'\u001b[39m)\n",
      "\u001b[0;31mNameError\u001b[0m: name 'model' is not defined"
     ]
    }
   ],
   "source": [
    "start = time.time()\n",
    "\n",
    "for epoch in range(epochs):\n",
    "\n",
    "    # TRAIN\n",
    "    model.train()\n",
    "\n",
    "    # GET BATCH OF TRAINING DATA\n",
    "    features_train, labels_train = get_batch('train')\n",
    "\n",
    "    # PREDICTIONS\n",
    "    labels_logits = model(features_train)\n",
    "\n",
    "    # LOSS\n",
    "    batch_size, block_size, classes = labels_logits.shape\n",
    "    labels_logits = labels_logits.view(batch_size * block_size, classes) # merge Batches to one single batch, also keep number of classes\n",
    "    labels_train = labels_train.view(batch_size * block_size) # merge Batches to one single batch, no classes required for cross_entropy\n",
    "    loss_train = loss_fn(labels_logits, labels_train)\n",
    "\n",
    "    # SET OPTIMIZER TO ZERO\n",
    "    optimizer.zero_grad(set_to_none=True)\n",
    "    \n",
    "    # BACK PROPAGATION \n",
    "    loss_train.backward()\n",
    "\n",
    "    # UPDATE PARAMETERS\n",
    "    optimizer.step()\n",
    "\n",
    "    # TEST  \n",
    "    model.eval()\n",
    "    with torch.inference_mode():\n",
    "      features_test, labels_test = get_batch('test')\n",
    "      labels_logits = model(features_test)\n",
    "      batch_size, block_size, classes = labels_logits.shape\n",
    "      labels_logits = labels_logits.view(batch_size * block_size, classes) # merge Batches to one single batch, also keep number of classes\n",
    "      labels_test = labels_train.view(batch_size * block_size) # merge Batches to one single batch, no classes required for cross_entropy\n",
    "      loss_test = loss_fn(labels_logits, labels_test)\n",
    "\n",
    "    losses['epoch'].append(epoch)\n",
    "    losses['loss_train'].append(loss_train.cpu().item())\n",
    "    losses['loss_test'].append(loss_test.cpu().item())\n",
    "    losses['duration'] = losses['duration'] + time.time()\n",
    "\n",
    "    # LOG\n",
    "    if epochs < 10 or epoch % int(epochs / 10) == 0:\n",
    "      print(f\"Epoch {epoch} | Train loss {loss_train:.2f} | Test Loss {loss_test:.2f}\")"
   ]
  },
  {
   "cell_type": "markdown",
   "id": "2d65be89",
   "metadata": {},
   "source": [
    "## Plot results\n",
    "We will plot train and test losses for each epoch to see how the loss goes down - hopefully."
   ]
  },
  {
   "cell_type": "code",
   "execution_count": null,
   "id": "ae508674",
   "metadata": {},
   "outputs": [],
   "source": [
    "fig, ax1 = plt.subplots(figsize=(5, 5))\n",
    "fontsize = 10\n",
    "line_width = 0.5\n",
    "ax1.plot(losses['epoch'], losses['loss_train'], 'b-', label='Train Loss', linewidth=line_width)\n",
    "ax1.set_xlabel('Epoch', fontsize=fontsize)\n",
    "ax1.set_ylabel('Train Loss', color='b', fontsize=fontsize)\n",
    "ax1.tick_params('y', colors='b', labelsize=fontsize)\n",
    "\n",
    "ax2 = ax1.twinx()\n",
    "ax2.plot(losses['epoch'], losses['loss_test'], 'r-', label='Test Loss', linewidth=line_width)\n",
    "ax2.set_ylabel('Test Loss', color='r', fontsize=fontsize)\n",
    "ax2.tick_params('y', colors='r', labelsize=fontsize)\n",
    "\n",
    "plt.title('Train and Test Loss Over Epochs')\n",
    "fig.tight_layout()\n",
    "plt.show()"
   ]
  },
  {
   "cell_type": "markdown",
   "id": "3568a1fe",
   "metadata": {},
   "source": [
    "# Aftermath\n",
    "## Loading and saving the model\n",
    "\n",
    "We can utilize two functions to persist the model's result\n",
    "- either putting everything to a pickel file or\n",
    "- using PyTorch's state dic export feature"
   ]
  },
  {
   "cell_type": "markdown",
   "id": "e3eb122f",
   "metadata": {},
   "source": [
    "torch.save(obj = model.state_dict(), f = model_export)"
   ]
  },
  {
   "cell_type": "code",
   "execution_count": null,
   "id": "779577f8",
   "metadata": {},
   "outputs": [],
   "source": [
    "model = GPTLanguageModel()\n",
    "model.load_state_dict(torch.load(model_export))\n",
    "model.to(device)"
   ]
  },
  {
   "cell_type": "code",
   "execution_count": null,
   "id": "1cc34d1b",
   "metadata": {},
   "outputs": [],
   "source": [
    "with open('model-01.pkl', 'wb') as f:\n",
    "    pickle.dump(model, f)\n",
    "print('model saved')"
   ]
  },
  {
   "cell_type": "code",
   "execution_count": null,
   "id": "343c2132",
   "metadata": {},
   "outputs": [],
   "source": [
    "with open('model-01.pkl', 'rb') as f:\n",
    "     model = pickle.load(f)"
   ]
  },
  {
   "cell_type": "markdown",
   "id": "b4001618",
   "metadata": {},
   "source": [
    "# Use the model\n",
    "Finally, apparently, we want to use the model. This simply generates new tokens for a given prompt."
   ]
  },
  {
   "cell_type": "code",
   "execution_count": null,
   "id": "9fb9870f",
   "metadata": {},
   "outputs": [],
   "source": [
    "prompt = 'Hallo'\n",
    "model.eval()\n",
    "with torch.inference_mode():\n",
    "  context = torch.tensor(encode(char_table, prompt), dtype=torch.long, device=device)\n",
    "  generated_chars = decode(reverse_char_table, model.generate(context.unsqueeze(0), max_new_tokens = 10)[0].tolist())\n",
    "  \n",
    "print(generated_chars)"
   ]
  }
 ],
 "metadata": {
  "kernelspec": {
   "display_name": "Python 3",
   "language": "python",
   "name": "python3"
  },
  "language_info": {
   "codemirror_mode": {
    "name": "ipython",
    "version": 3
   },
   "file_extension": ".py",
   "mimetype": "text/x-python",
   "name": "python",
   "nbconvert_exporter": "python",
   "pygments_lexer": "ipython3",
   "version": "3.11.4"
  }
 },
 "nbformat": 4,
 "nbformat_minor": 5
}
